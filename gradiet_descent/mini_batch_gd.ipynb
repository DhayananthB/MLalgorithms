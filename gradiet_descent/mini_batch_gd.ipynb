{
 "cells": [
  {
   "cell_type": "code",
   "execution_count": 1,
   "metadata": {},
   "outputs": [
    {
     "name": "stdout",
     "output_type": "stream",
     "text": [
      "coeff :  [  -9.15865318 -205.45432163  516.69374454  340.61999905 -895.5520019\n",
      "  561.22067904  153.89310954  126.73139688  861.12700152   52.42112238]\n",
      "intercept:  151.88331005254167\n",
      "r2_score :  0.4399338661568969\n"
     ]
    }
   ],
   "source": [
    "from sklearn.datasets import load_diabetes\n",
    "import numpy as np \n",
    "from sklearn.metrics import r2_score\n",
    "from sklearn.model_selection import train_test_split\n",
    "X,y = load_diabetes(return_X_y=True)\n",
    "X_train,X_test,y_train,y_test = train_test_split(X,y,test_size=0.2,random_state=2)\n",
    "from sklearn.linear_model import LinearRegression\n",
    "lr = LinearRegression()\n",
    "lr.fit(X_train,y_train)\n",
    "print(\"coeff : \" , lr.coef_)\n",
    "print(\"intercept: \",lr.intercept_)\n",
    "print(\"r2_score : \",r2_score(y_test,lr.predict(X_test)))"
   ]
  },
  {
   "cell_type": "code",
   "execution_count": 2,
   "metadata": {},
   "outputs": [],
   "source": [
    "import random\n",
    "\n",
    "class MBGDRegressor:\n",
    "    def __init__(self,lr,epochs,batch_size):\n",
    "        self.lr = lr\n",
    "        self.epochs = epochs\n",
    "        self.batch_size = batch_size\n",
    "        self.m = None\n",
    "        self.b = None\n",
    "    def fit(self,X,y):\n",
    "        self.m = np.ones(X.shape[1])\n",
    "        self.b = 0\n",
    "        for i in range(self.epochs):\n",
    "            for j in range(int(X.shape[0]/self.batch_size)):\n",
    "                idx = random.sample(range(X.shape[0]),self.batch_size)\n",
    "\n",
    "                y_pred = np.dot(X[idx],self.m)+ self.b\n",
    "\n",
    "                b_der = -2 * np.mean(y[idx] - y_pred)\n",
    "                self.b -= self.lr * b_der\n",
    "\n",
    "                m_der = -2 * np.dot((y[idx] - y_pred),X[idx])\n",
    "                self.m -= self.lr * m_der\n",
    "\n",
    "\n",
    "    def predict(self,X):\n",
    "        return np.dot(X,self.m) + self.b"
   ]
  },
  {
   "cell_type": "code",
   "execution_count": 3,
   "metadata": {},
   "outputs": [],
   "source": [
    "mbr = MBGDRegressor(0.01,100,batch_size=int(X_train.shape[0]/50))"
   ]
  },
  {
   "cell_type": "code",
   "execution_count": 4,
   "metadata": {},
   "outputs": [],
   "source": [
    "mbr.fit(X_train,y_train)"
   ]
  },
  {
   "cell_type": "code",
   "execution_count": 6,
   "metadata": {},
   "outputs": [
    {
     "data": {
      "text/plain": [
       "0.4515705279148159"
      ]
     },
     "execution_count": 6,
     "metadata": {},
     "output_type": "execute_result"
    }
   ],
   "source": [
    "r2_score(y_test,mbr.predict(X_test))"
   ]
  },
  {
   "cell_type": "code",
   "execution_count": null,
   "metadata": {},
   "outputs": [],
   "source": []
  }
 ],
 "metadata": {
  "kernelspec": {
   "display_name": "base",
   "language": "python",
   "name": "python3"
  },
  "language_info": {
   "codemirror_mode": {
    "name": "ipython",
    "version": 3
   },
   "file_extension": ".py",
   "mimetype": "text/x-python",
   "name": "python",
   "nbconvert_exporter": "python",
   "pygments_lexer": "ipython3",
   "version": "3.12.3"
  }
 },
 "nbformat": 4,
 "nbformat_minor": 2
}
